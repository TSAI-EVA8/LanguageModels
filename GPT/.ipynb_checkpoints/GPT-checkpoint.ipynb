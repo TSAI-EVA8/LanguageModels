{
 "cells": [
  {
   "cell_type": "code",
   "execution_count": 1,
   "metadata": {},
   "outputs": [
    {
     "name": "stderr",
     "output_type": "stream",
     "text": [
      "Token indices sequence length is longer than the specified maximum sequence length for this model (37443 > 512). Running this sequence through the model will result in indexing errors\n"
     ]
    },
    {
     "name": "stdout",
     "output_type": "stream",
     "text": [
      "Model with 89.48M parameters\n"
     ]
    }
   ],
   "source": [
    "import torch\n",
    "from model import Transformer\n",
    "from transformers import AutoTokenizer  # pip install transformers\n",
    "from utils import (\n",
    "    BATCH_SIZE,\n",
    "    BLOCK_SIZE,\n",
    "    DEVICE,\n",
    "    DROPOUT,\n",
    "    LEARNING_RATE,\n",
    "    NUM_EMBED,\n",
    "    NUM_HEAD,\n",
    "    NUM_LAYER,\n",
    "    MAX_ITER,\n",
    "    EVAL_INTER,\n",
    "    encode,\n",
    "    decode,\n",
    "    get_batch,\n",
    "    save_model_to_chekpoint,\n",
    "    estimate_loss,\n",
    ")\n",
    "\n",
    "\n",
    "\n",
    "\n"
   ]
  },
  {
   "cell_type": "code",
   "execution_count": null,
   "metadata": {},
   "outputs": [],
   "source": [
    "# raw data\n",
    "path_do_data = \"data/english.txt\"\n",
    "data_raw = open(path_do_data, encoding=\"utf-8\").read()\n",
    "# we use pretrained BERT tokenizer for performance improvements\n",
    "tokenizer = AutoTokenizer.from_pretrained(\"bert-base-uncased\")\n",
    "vocab_size = tokenizer.vocab_size\n",
    "# data_raw = data_raw[4000000:] # short dataset\n",
    "\n",
    "# train/val split\n",
    "data = encode(text_seq=data_raw, tokenizer=tokenizer)\n",
    "n = int(0.9 * len(data))  # first 90% will be train, rest val\n",
    "train_data = data[:n]\n",
    "val_data = data[n:]\n",
    "\n",
    "# train a new model\n",
    "model = Transformer(\n",
    "    vocab_size=vocab_size,\n",
    "    num_embed=NUM_EMBED,\n",
    "    block_size=BLOCK_SIZE,\n",
    "    num_heads=NUM_HEAD,\n",
    "    num_layers=NUM_LAYER,\n",
    "    dropout=DROPOUT,\n",
    ")\n",
    "# load model to GPU if available\n",
    "m = model.to(DEVICE)\n",
    "# print the number of parameters in the model\n",
    "print(\n",
    "    \"Model with {:.2f}M parameters\".format(sum(p.numel() for p in m.parameters()) / 1e6)\n",
    ")"
   ]
  },
  {
   "cell_type": "code",
   "execution_count": 4,
   "metadata": {},
   "outputs": [
    {
     "name": "stdout",
     "output_type": "stream",
     "text": [
      "step          0 | train loss 0.4995 | val loss 8.0422\n",
      "step         50 | train loss 0.4098 | val loss 8.2266\n",
      "step        100 | train loss 0.3308 | val loss 8.7301\n",
      "step        150 | train loss 0.2732 | val loss 8.9612\n",
      "step        200 | train loss 0.2346 | val loss 8.9518\n",
      "step        250 | train loss 0.2345 | val loss 9.1536\n",
      "step        300 | train loss 0.2041 | val loss 9.4915\n",
      "step        350 | train loss 0.1985 | val loss 9.7089\n",
      "step        400 | train loss 0.1832 | val loss 9.4781\n",
      "step        450 | train loss 0.1838 | val loss 9.4950\n",
      "step        499 | train loss 0.1817 | val loss 9.7152\n"
     ]
    }
   ],
   "source": [
    "# optimizer takes the model's parameters and the learning rate as input,\n",
    "# and updates the parameters during the training process in order to\n",
    "# minimize the loss function.\n",
    "optimizer = torch.optim.AdamW(m.parameters(), lr=LEARNING_RATE)\n",
    "MAX_ITER = 500\n",
    "EVAL_INTER=50\n",
    "for step in range(MAX_ITER):\n",
    "    #print(f'step -> {step}')\n",
    "    # every EVAL_INTER evaluate the loss on train and val sets\n",
    "    if step % EVAL_INTER == 0 or step == MAX_ITER - 1:\n",
    "        loss_train = estimate_loss(\n",
    "            data=train_data, model=m, block_size=BLOCK_SIZE, batch_size=BATCH_SIZE\n",
    "        )\n",
    "        loss_val = estimate_loss(\n",
    "            data=val_data, model=m, block_size=BLOCK_SIZE, batch_size=BATCH_SIZE\n",
    "        )\n",
    "        print(\"step {:10} | train loss {:6.4f} | val loss {:6.4f}\".format(step, loss_train, loss_val))\n",
    "\n",
    "    # sample a batch of data\n",
    "    xb, yb = get_batch(data=train_data, block_size=BLOCK_SIZE, batch_size=BATCH_SIZE)\n",
    "    logits, loss = m.forward(xb, yb)\n",
    "    # zero_grad() method sets the gradients of all parameters in the optimizer to zero\n",
    "    optimizer.zero_grad(set_to_none=True)\n",
    "    # backward() method on the loss variable calculates the gradients \n",
    "    # of the loss with respect to the model's parameters.\n",
    "    loss.backward()\n",
    "    # step() method on the optimizer updates the model's parameters \n",
    "    # using the calculated gradients, in order to minimize the loss.\n",
    "    optimizer.step()\n",
    "\n"
   ]
  },
  {
   "cell_type": "code",
   "execution_count": 3,
   "metadata": {},
   "outputs": [
    {
     "name": "stdout",
     "output_type": "stream",
     "text": [
      "Successfully saved the model to checkpoint/checkpoint_epoch-0_19.03.2023_19:19:43.pt\n"
     ]
    }
   ],
   "source": [
    "save_model_to_chekpoint(model=m, path_to_checkpoint=\"checkpoint\", epoch=step)"
   ]
  },
  {
   "cell_type": "code",
   "execution_count": 5,
   "metadata": {},
   "outputs": [
    {
     "name": "stdout",
     "output_type": "stream",
     "text": [
      "[PAD] of capture has increased a lot, hence we don't a lot of look at max - pooling operator, but we will not be using, but now the capacity of a logarithmic relationship between classification accuracy and receptive field, which suggests that large receptive field size, or right slant ( pixels ). receptive field! this is how this works in a nutshell : split the image into patches ( 16x16 ) flatten the patches produce lower - dimensional linear embed\n"
     ]
    }
   ],
   "source": [
    "# generate some output based on the context\n",
    "context = torch.zeros((1, 1), dtype=torch.long, device=DEVICE)\n",
    "print(\n",
    "    decode(\n",
    "        enc_sec=m.generate(idx=context, max_new_tokens=100, block_size=BLOCK_SIZE)[0],\n",
    "        tokenizer=tokenizer,\n",
    "    )\n",
    ")"
   ]
  },
  {
   "cell_type": "code",
   "execution_count": 14,
   "metadata": {},
   "outputs": [
    {
     "data": {
      "text/plain": [
       "array([[False, False, False],\n",
       "       [False, False, False],\n",
       "       [False, False, False]])"
      ]
     },
     "execution_count": 14,
     "metadata": {},
     "output_type": "execute_result"
    }
   ],
   "source": [
    "import numpy as np\n",
    "# hyperparameters\n",
    "BATCH_SIZE = 32  # how many independent sequences will we process in parallel?\n",
    "BLOCK_SIZE = 64  # what is the maximum context length for predictions?\n",
    "MAX_ITER = 5000  # number of training iterations\n",
    "EVAL_INTER = 50\n",
    "LEARNING_RATE = 3e-4\n",
    "DEVICE = \"cuda\" if torch.cuda.is_available() else \"cpu\"\n",
    "NUM_HEAD = 6\n",
    "NUM_EMBED = NUM_HEAD * 128\n",
    "NUM_LAYER = 6\n",
    "DROPOUT = 0.2\n",
    "\n",
    "\n",
    "layout = np.zeros([3, 3], dtype=bool)\n",
    "layout"
   ]
  },
  {
   "cell_type": "code",
   "execution_count": 39,
   "metadata": {},
   "outputs": [
    {
     "data": {
      "text/plain": [
       "(array([[8, 6, 1],\n",
       "        [3, 0, 3]]),\n",
       " array([[3, 0, 6, 7, 5],\n",
       "        [8, 0, 5, 7, 5],\n",
       "        [8, 9, 6, 0, 4]]))"
      ]
     },
     "execution_count": 39,
     "metadata": {},
     "output_type": "execute_result"
    }
   ],
   "source": [
    "q=np.random.randint(10,size=(2,3))\n",
    "k=np.random.randint(10,size=(3,5))\n",
    "q,k"
   ]
  },
  {
   "cell_type": "code",
   "execution_count": 28,
   "metadata": {},
   "outputs": [
    {
     "data": {
      "text/plain": [
       "(array([[4, 0, 0, 0],\n",
       "        [8, 7, 0, 0],\n",
       "        [3, 9, 5, 0],\n",
       "        [4, 9, 6, 7]]),\n",
       " array([[4, 0, 0, 0],\n",
       "        [3, 7, 0, 0],\n",
       "        [4, 4, 5, 0],\n",
       "        [4, 5, 1, 7]]))"
      ]
     },
     "execution_count": 28,
     "metadata": {},
     "output_type": "execute_result"
    }
   ],
   "source": [
    "kL=np.tril(k)\n",
    "kU=np.tril(k.T)\n",
    "kU,kL"
   ]
  },
  {
   "cell_type": "code",
   "execution_count": null,
   "metadata": {},
   "outputs": [],
   "source": [
    "for i in range(4):\n",
    "    for j in range(4)\n",
    "    row=q_idx//2\n",
    "    col=q_idx//2\n",
    "    q[q_idx,]"
   ]
  },
  {
   "cell_type": "code",
   "execution_count": 31,
   "metadata": {},
   "outputs": [
    {
     "data": {
      "text/plain": [
       "array([[ 75, 142, 115, 142],\n",
       "       [ 94, 147, 117, 161],\n",
       "       [ 62,  88,  72,  96],\n",
       "       [ 78, 117,  97, 147]])"
      ]
     },
     "execution_count": 31,
     "metadata": {},
     "output_type": "execute_result"
    }
   ],
   "source": [
    "np.matmul(q,k)"
   ]
  },
  {
   "cell_type": "code",
   "execution_count": 36,
   "metadata": {},
   "outputs": [
    {
     "ename": "TypeError",
     "evalue": "object of type 'int' has no len()",
     "output_type": "error",
     "traceback": [
      "\u001b[0;31m---------------------------------------------------------------------------\u001b[0m",
      "\u001b[0;31mTypeError\u001b[0m                                 Traceback (most recent call last)",
      "Cell \u001b[0;32mIn[36], line 1\u001b[0m\n\u001b[0;32m----> 1\u001b[0m \u001b[38;5;28;43mlen\u001b[39;49m\u001b[43m(\u001b[49m\u001b[43mk\u001b[49m\u001b[43m)\u001b[49m\n",
      "\u001b[0;31mTypeError\u001b[0m: object of type 'int' has no len()"
     ]
    }
   ],
   "source": [
    "len(k)"
   ]
  },
  {
   "cell_type": "code",
   "execution_count": 47,
   "metadata": {},
   "outputs": [
    {
     "name": "stdout",
     "output_type": "stream",
     "text": [
      "num_row_A 2,num_col_B 5, num_row_B 3\n"
     ]
    }
   ],
   "source": [
    "num_row_A=len(q)\n",
    "num_col_A=len(q[0])\n",
    "num_col_B=len(k[0])\n",
    "num_row_B=len(k)\n",
    "print(f'num_row_A {num_row_A},num_col_B {num_col_B}, num_row_B {num_row_B}')\n"
   ]
  },
  {
   "cell_type": "code",
   "execution_count": 59,
   "metadata": {},
   "outputs": [
    {
     "data": {
      "text/plain": [
       "array([[0., 0., 0., 0., 0.],\n",
       "       [0., 0., 0., 0., 0.]])"
      ]
     },
     "execution_count": 59,
     "metadata": {},
     "output_type": "execute_result"
    }
   ],
   "source": []
  },
  {
   "cell_type": "code",
   "execution_count": 64,
   "metadata": {},
   "outputs": [
    {
     "data": {
      "text/plain": [
       "array([[24.,  0.,  0.,  0.,  0.],\n",
       "       [ 9.,  0.,  0.,  0.,  0.]])"
      ]
     },
     "execution_count": 64,
     "metadata": {},
     "output_type": "execute_result"
    }
   ],
   "source": [
    "result=np.zeros([num_row_A,num_col_B])\n",
    "result\n",
    "for i in range(num_row_A):\n",
    "    # iterating by column by B\n",
    "    for j in range(num_col_B):\n",
    "        # iterating by rows of B\n",
    "        for n in range(num_row_B):\n",
    "            if(n<1 and j < 1):\n",
    "                result[i][j] += q[i][n] * k[n][j]\n",
    "\n",
    "result"
   ]
  },
  {
   "cell_type": "code",
   "execution_count": 61,
   "metadata": {},
   "outputs": [
    {
     "data": {
      "text/plain": [
       "array([[80.,  9., 84., 98., 74.],\n",
       "       [33., 27., 36., 21., 27.]])"
      ]
     },
     "execution_count": 61,
     "metadata": {},
     "output_type": "execute_result"
    }
   ],
   "source": []
  },
  {
   "cell_type": "code",
   "execution_count": 58,
   "metadata": {},
   "outputs": [
    {
     "data": {
      "text/plain": [
       "array([[80,  9, 84, 98, 74],\n",
       "       [33, 27, 36, 21, 27]])"
      ]
     },
     "execution_count": 58,
     "metadata": {},
     "output_type": "execute_result"
    }
   ],
   "source": [
    "np.matmul(q,k)"
   ]
  },
  {
   "cell_type": "code",
   "execution_count": 8,
   "metadata": {},
   "outputs": [
    {
     "ename": "ModuleNotFoundError",
     "evalue": "No module named 'torch_blocksparse_cpp_utils'",
     "output_type": "error",
     "traceback": [
      "\u001b[0;31m---------------------------------------------------------------------------\u001b[0m",
      "\u001b[0;31mModuleNotFoundError\u001b[0m                       Traceback (most recent call last)",
      "Cell \u001b[0;32mIn[8], line 2\u001b[0m\n\u001b[1;32m      1\u001b[0m \u001b[38;5;28;01mimport\u001b[39;00m \u001b[38;5;21;01mtorch\u001b[39;00m\n\u001b[0;32m----> 2\u001b[0m \u001b[38;5;28;01mimport\u001b[39;00m \u001b[38;5;21;01mtorch_blocksparse\u001b[39;00m\n\u001b[1;32m      4\u001b[0m \u001b[38;5;66;03m# Z: non-sparse batch dimension\u001b[39;00m\n\u001b[1;32m      5\u001b[0m \u001b[38;5;66;03m# H: sparse batch dimension\u001b[39;00m\n\u001b[1;32m      6\u001b[0m \u001b[38;5;66;03m# M: row dimension\u001b[39;00m\n\u001b[1;32m      7\u001b[0m \u001b[38;5;66;03m# N: column dimension\u001b[39;00m\n\u001b[1;32m      8\u001b[0m Z, H, M, N, K \u001b[38;5;241m=\u001b[39m \u001b[38;5;241m4\u001b[39m, \u001b[38;5;241m2\u001b[39m, \u001b[38;5;241m256\u001b[39m, \u001b[38;5;241m512\u001b[39m, \u001b[38;5;241m384\u001b[39m\n",
      "File \u001b[0;32m~/EVA8/S11Class/GPT/torch_blocksparse/__init__.py:2\u001b[0m\n\u001b[1;32m      1\u001b[0m \u001b[38;5;28;01mfrom\u001b[39;00m \u001b[38;5;21;01m.\u001b[39;00m\u001b[38;5;21;01msoftmax\u001b[39;00m \u001b[38;5;28;01mimport\u001b[39;00m Softmax\n\u001b[0;32m----> 2\u001b[0m \u001b[38;5;28;01mfrom\u001b[39;00m \u001b[38;5;21;01m.\u001b[39;00m\u001b[38;5;21;01mmatmul\u001b[39;00m \u001b[38;5;28;01mimport\u001b[39;00m MatMul, Linear\n\u001b[1;32m      3\u001b[0m \u001b[38;5;28;01mfrom\u001b[39;00m \u001b[38;5;21;01m.\u001b[39;00m\u001b[38;5;21;01mattention\u001b[39;00m \u001b[38;5;28;01mimport\u001b[39;00m MultiheadAttention\n\u001b[1;32m      4\u001b[0m \u001b[38;5;28;01mfrom\u001b[39;00m \u001b[38;5;21;01m.\u001b[39;00m\u001b[38;5;21;01mpermute\u001b[39;00m \u001b[38;5;28;01mimport\u001b[39;00m _permute, Permute\n",
      "File \u001b[0;32m~/EVA8/S11Class/GPT/torch_blocksparse/matmul.py:4\u001b[0m\n\u001b[1;32m      2\u001b[0m \u001b[38;5;28;01mimport\u001b[39;00m \u001b[38;5;21;01mtorch\u001b[39;00m\n\u001b[1;32m      3\u001b[0m \u001b[38;5;28;01mimport\u001b[39;00m \u001b[38;5;21;01mmath\u001b[39;00m\n\u001b[0;32m----> 4\u001b[0m \u001b[38;5;28;01mimport\u001b[39;00m \u001b[38;5;21;01mtorch_blocksparse_cpp_utils\u001b[39;00m\n\u001b[1;32m      6\u001b[0m src \u001b[38;5;241m=\u001b[39m \u001b[38;5;124m'''\u001b[39m\n\u001b[1;32m      7\u001b[0m \u001b[38;5;124m  __global__ void NAME (TYPE* A __readonly  __noalias __aligned(16),\u001b[39m\n\u001b[1;32m      8\u001b[0m \u001b[38;5;124m                        TYPE* B __readonly  __noalias __aligned(16),\u001b[39m\n\u001b[0;32m   (...)\u001b[0m\n\u001b[1;32m    204\u001b[0m \u001b[38;5;124m  }\u001b[39m\n\u001b[1;32m    205\u001b[0m \u001b[38;5;124m'''\u001b[39m\n\u001b[1;32m    207\u001b[0m \u001b[38;5;66;03m##############\u001b[39;00m\n\u001b[1;32m    208\u001b[0m \u001b[38;5;66;03m#  MAIN API  #\u001b[39;00m\n\u001b[1;32m    209\u001b[0m \u001b[38;5;66;03m##############\u001b[39;00m\n",
      "\u001b[0;31mModuleNotFoundError\u001b[0m: No module named 'torch_blocksparse_cpp_utils'"
     ]
    }
   ],
   "source": [
    "import torch\n",
    "import torch_blocksparse\n",
    "\n",
    "# Z: non-sparse batch dimension\n",
    "# H: sparse batch dimension\n",
    "# M: row dimension\n",
    "# N: column dimension\n",
    "Z, H, M, N, K = 4, 2, 256, 512, 384\n",
    "a = torch.rand((Z, H, M, K), dtype=torch.float32).cuda()\n",
    "b = torch.rand((Z, H, K, N), dtype=torch.float32).cuda()\n",
    "# create sparsity layout\n",
    "block = 16\n",
    "layout = torch.randint(0, 2, (H, M//block, N//block))\n",
    "# create object for Sparse = trans(Dense) x Dense (sdd)\n",
    "# some overhead there as it pre-computes look-up tables \n",
    "# internally needed by GPU kernels\n",
    "dot = torch_blocksparse.MatMul(layout, block, 'sdd', trans_a=True, trans_b=False)\n",
    "c = dot(a, b)\n",
    "# create object for Sparse = softmax(Sparse)\n",
    "softmax = torch_blocksparse.Softmax(layout, block)\n",
    "d = softmax(c)"
   ]
  },
  {
   "cell_type": "code",
   "execution_count": 10,
   "metadata": {},
   "outputs": [
    {
     "name": "stdout",
     "output_type": "stream",
     "text": [
      "huggingface/tokenizers: The current process just got forked, after parallelism has already been used. Disabling parallelism to avoid deadlocks...\n",
      "To disable this warning, you can either:\n",
      "\t- Avoid using `tokenizers` before the fork if possible\n",
      "\t- Explicitly set the environment variable TOKENIZERS_PARALLELISM=(true | false)\n",
      "Requirement already satisfied: triton in /home/gauravp/anaconda3/envs/eva8/lib/python3.10/site-packages (2.0.0.post1)\n",
      "Requirement already satisfied: lit in /home/gauravp/anaconda3/envs/eva8/lib/python3.10/site-packages (from triton) (15.0.7)\n",
      "Requirement already satisfied: filelock in /home/gauravp/anaconda3/envs/eva8/lib/python3.10/site-packages (from triton) (3.9.0)\n",
      "Requirement already satisfied: cmake in /home/gauravp/anaconda3/envs/eva8/lib/python3.10/site-packages (from triton) (3.26.0)\n",
      "Requirement already satisfied: torch in /home/gauravp/anaconda3/envs/eva8/lib/python3.10/site-packages (from triton) (1.13.1)\n",
      "Requirement already satisfied: nvidia-cuda-runtime-cu11==11.7.99 in /home/gauravp/anaconda3/envs/eva8/lib/python3.10/site-packages (from torch->triton) (11.7.99)\n",
      "Requirement already satisfied: typing-extensions in /home/gauravp/anaconda3/envs/eva8/lib/python3.10/site-packages (from torch->triton) (4.4.0)\n",
      "Requirement already satisfied: nvidia-cuda-nvrtc-cu11==11.7.99 in /home/gauravp/anaconda3/envs/eva8/lib/python3.10/site-packages (from torch->triton) (11.7.99)\n",
      "Requirement already satisfied: nvidia-cublas-cu11==11.10.3.66 in /home/gauravp/anaconda3/envs/eva8/lib/python3.10/site-packages (from torch->triton) (11.10.3.66)\n",
      "Requirement already satisfied: nvidia-cudnn-cu11==8.5.0.96 in /home/gauravp/anaconda3/envs/eva8/lib/python3.10/site-packages (from torch->triton) (8.5.0.96)\n",
      "Requirement already satisfied: wheel in /home/gauravp/anaconda3/envs/eva8/lib/python3.10/site-packages (from nvidia-cublas-cu11==11.10.3.66->torch->triton) (0.38.4)\n",
      "Requirement already satisfied: setuptools in /home/gauravp/anaconda3/envs/eva8/lib/python3.10/site-packages (from nvidia-cublas-cu11==11.10.3.66->torch->triton) (65.6.3)\n",
      "huggingface/tokenizers: The current process just got forked, after parallelism has already been used. Disabling parallelism to avoid deadlocks...\n",
      "To disable this warning, you can either:\n",
      "\t- Avoid using `tokenizers` before the fork if possible\n",
      "\t- Explicitly set the environment variable TOKENIZERS_PARALLELISM=(true | false)\n",
      "\u001b[31mERROR: Could not find a version that satisfies the requirement torch_blocksparse_cpp_utils (from versions: none)\u001b[0m\u001b[31m\n",
      "\u001b[0m\u001b[31mERROR: No matching distribution found for torch_blocksparse_cpp_utils\u001b[0m\u001b[31m\n",
      "\u001b[0m"
     ]
    }
   ],
   "source": [
    "!pip install triton\n",
    "!pip install torch_blocksparse_cpp_utils"
   ]
  }
 ],
 "metadata": {
  "kernelspec": {
   "display_name": "Python 3 (ipykernel)",
   "language": "python",
   "name": "python3"
  },
  "language_info": {
   "codemirror_mode": {
    "name": "ipython",
    "version": 3
   },
   "file_extension": ".py",
   "mimetype": "text/x-python",
   "name": "python",
   "nbconvert_exporter": "python",
   "pygments_lexer": "ipython3",
   "version": "3.10.9"
  },
  "vscode": {
   "interpreter": {
    "hash": "b8fbfcbe0e544000e4ba3d2d9974592a7ba1a2af52205db5302ae41a0c45d995"
   }
  }
 },
 "nbformat": 4,
 "nbformat_minor": 2
}

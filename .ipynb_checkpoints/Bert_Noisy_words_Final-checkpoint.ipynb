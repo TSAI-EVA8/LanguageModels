{
 "cells": [
  {
   "cell_type": "markdown",
   "id": "0b44474e",
   "metadata": {},
   "source": [
    "## imported the dependency"
   ]
  },
  {
   "cell_type": "code",
   "execution_count": 1,
   "id": "ff49e02a",
   "metadata": {},
   "outputs": [
    {
     "name": "stderr",
     "output_type": "stream",
     "text": [
      "/home/gauravp/anaconda3/envs/eva8/lib/python3.10/site-packages/torchvision/io/image.py:13: UserWarning: Failed to load image Python extension: libtorch_cuda_cu.so: cannot open shared object file: No such file or directory\n",
      "  warn(f\"Failed to load image Python extension: {e}\")\n"
     ]
    }
   ],
   "source": [
    "from torch.utils.data import Dataset\n",
    "import torch.nn.functional as F\n",
    "from collections import Counter\n",
    "from os.path import exists\n",
    "import torch.optim as optim\n",
    "import torch.nn as nn\n",
    "import numpy as np\n",
    "import random\n",
    "import torch\n",
    "import math\n",
    "import re\n",
    "\n",
    "import helper.utils as utils\n",
    "import helper.dataset as dataUtils\n",
    "import helper.model as modelUtils\n",
    "import helper.main as mainUtils"
   ]
  },
  {
   "cell_type": "markdown",
   "id": "7695d4f4",
   "metadata": {},
   "source": [
    "## Declare the parameters"
   ]
  },
  {
   "cell_type": "code",
   "execution_count": 2,
   "id": "49c51f9d",
   "metadata": {},
   "outputs": [
    {
     "name": "stdout",
     "output_type": "stream",
     "text": [
      "initializing..\n"
     ]
    }
   ],
   "source": [
    "print('initializing..')\n",
    "train_batch_size = 128\n",
    "test_batch_size=10\n",
    "seq_len = 20\n",
    "embed_size = 128\n",
    "inner_ff_size = embed_size * 4\n",
    "n_heads = 8\n",
    "n_code = 8\n",
    "n_vocab = 40000\n",
    "dropout = 0.1\n",
    "pth = 'wikiPages_football.txt'\n"
   ]
  },
  {
   "cell_type": "code",
   "execution_count": 3,
   "id": "d693a590",
   "metadata": {},
   "outputs": [
    {
     "name": "stdout",
     "output_type": "stream",
     "text": [
      "reading the sentences\n",
      "totalNumberOfSentences 1648\n",
      "trainingSentencesCount 1318\n",
      "tokenizing the sentences\n",
      "tokenizing sentences...\n",
      "creating/loading vocab...\n",
      "creating train & test dataset...\n"
     ]
    }
   ],
   "source": [
    "train_dataset,test_dataset,train_data_loader,test_data_loader,vocab=utils.createData(pth,train_batch_size,test_batch_size,seq_len,n_vocab)"
   ]
  },
  {
   "cell_type": "code",
   "execution_count": 5,
   "id": "11e1224e",
   "metadata": {},
   "outputs": [
    {
     "data": {
      "text/plain": [
       "{'input': tensor([[    0,    33,     7,   179,    28,    24,    34,   241,   189,  3503,\n",
       "            982,   504,    14,   539,   504,     2,  3986, 11567,   181, 11932],\n",
       "         [  282,   250,    58,  8694,     7, 12283,   618,     8,  3556,  1580,\n",
       "           1963,  1385,    20,  8735,    85, 11999,     7,  4480,   256,     0],\n",
       "         [12204,     7,     6,   132,   583,     3,  4365,    28,   445,     5,\n",
       "              0,  6654,   732,     4,   324,     5,     0,  4151,    77,    18],\n",
       "         [ 1998,     7,     6,   377,    26,   128,     8,   258,     1,  2341,\n",
       "            302,    13,     6, 10950,     9,   887,    26,    28,     5,   246],\n",
       "         [    0,    67,    36,  1457,  1327,   109,    38,  4749,     1,     0,\n",
       "          12420, 12421,    50,     6,   295,     3,    16, 12422,  8874,  1956],\n",
       "         [ 1220,    11, 11837,    53,  2196,    12,    11,  2132,  1278,    53,\n",
       "            325, 11652,    15,  1501,   326,    11,   906,    12,    50,   123],\n",
       "         [ 7858,    10,    42,   114, 12377,  5388,    27,     0, 11698,   362,\n",
       "              1,     4,   672,    17,    57,    14,  3745,   797,     2,    22],\n",
       "         [ 3320,  1542,     7,  4764,   166,  1542,    33,  8457,    58,  3917,\n",
       "              8,   539,  3411,  2390,   778,    13,     6,  1426,     2,    99],\n",
       "         [  951,    10,    11,   289,   131,   951,   130,     1,     4,  6533,\n",
       "              5,  1219,  4562,     7,     6,   191,     3,    65,    10,  6440],\n",
       "         [  273,  6695,    53,  1486,     0,  9361,    94, 10491,    50,   488,\n",
       "           5081,    53,     0,   488,  2488,    75,     0,  1122,   152,    97]]),\n",
       " 'target': tensor([[12569, 12569, 12569, 12569, 12569, 12569, 12569, 12569, 12569, 12569,\n",
       "          12569, 12569, 12569, 12569, 12569, 12569,    31,    71, 12569,    83],\n",
       "         [12569, 12569, 12569,    39, 12569,  2079, 12569, 12569, 12569, 12569,\n",
       "              2, 12569, 12569,   187, 12569,   460, 12569, 12569,    14, 12569],\n",
       "         [12569, 12569, 12569, 12569, 12569, 12569,  1998, 12569, 12569, 12569,\n",
       "          12569, 12569, 12569, 12569, 12569, 12569, 12569,    68, 12569, 12569],\n",
       "         [12569, 12569, 12569, 12569, 12569, 12569, 12569, 12569, 12569,   179,\n",
       "          12569, 12569, 12569,  2533, 12569,   141, 12569, 12569, 12569, 12569],\n",
       "         [12569, 12569, 12569, 12569, 12569, 12569, 12569, 12569, 12569, 12569,\n",
       "          12569, 12569, 12569, 12569, 12569, 12569, 12569, 12569,    16, 12569],\n",
       "         [12569, 12569,  2132, 12569,  6560, 12569, 12569, 12569, 12569, 12569,\n",
       "          12569, 12569, 12569, 11653, 12569, 12569, 12569, 12569, 12569, 12569],\n",
       "         [    0, 12569, 12569, 12569,     6,  4219, 12569, 12569, 12569, 12569,\n",
       "          12569, 12569, 12569, 12569, 12569, 12569,   251, 12569, 12569, 12569],\n",
       "         [ 3043, 12569, 12569,    34, 12569, 12569, 12569,   121, 12569,   541,\n",
       "          12569, 12569,  4434, 12569, 12569, 12569, 12569,    35, 12569, 12569],\n",
       "         [12569, 12569, 12569, 12569, 12569, 12569, 12569, 12569, 12569, 12569,\n",
       "          12569, 12569,    12, 12569, 12569, 12569, 12569, 12569, 12569,    32],\n",
       "         [12569,   886, 12569, 12569, 12569,   273, 12569,    70, 12569, 12569,\n",
       "          12569, 12569, 12569, 12569, 12569, 12569, 12569, 12569, 12569, 12569]]),\n",
       " 'original': tensor([[    0,    33,     7,   179,    28,    24,    34,   241,   189,  3503,\n",
       "            982,   504,    14,   539,   504,     2,    31,    71,   181,    83],\n",
       "         [  282,   250,    58,    39,     7,  2079,   618,     8,  3556,  1580,\n",
       "              2,  1385,    20,   187,    85,   460,     7,  4480,    14,     0],\n",
       "         [12204,     7,     6,   132,   583,     3,  1998,    28,   445,     5,\n",
       "              0,  6654,   732,     4,   324,     5,     0,    68,    77,    18],\n",
       "         [ 1998,     7,     6,   377,    26,   128,     8,   258,     1,   179,\n",
       "            302,    13,     6,  2533,     9,   141,    26,    28,     5,   246],\n",
       "         [    0,    67,    36,  1457,  1327,   109,    38,  4749,     1,     0,\n",
       "          12420, 12421,    50,     6,   295,     3,    16, 12422,    16,  1956],\n",
       "         [ 1220,    11,  2132,    53,  6560,    12,    11,  2132,  1278,    53,\n",
       "            325, 11652,    15, 11653,   326,    11,   906,    12,    50,   123],\n",
       "         [    0,    10,    42,   114,     6,  4219,    27,     0, 11698,   362,\n",
       "              1,     4,   672,    17,    57,    14,   251,   797,     2,    22],\n",
       "         [ 3043,  1542,     7,    34,   166,  1542,    33,   121,    58,   541,\n",
       "              8,   539,  4434,  2390,   778,    13,     6,    35,     2,    99],\n",
       "         [  951,    10,    11,   289,   131,   951,   130,     1,     4,  6533,\n",
       "              5,  1219,    12,     7,     6,   191,     3,    65,    10,    32],\n",
       "         [  273,   886,    53,  1486,     0,   273,    94,    70,    50,   488,\n",
       "           5081,    53,     0,   488,  2488,    75,     0,  1122,   152,    97]])}"
      ]
     },
     "execution_count": 5,
     "metadata": {},
     "output_type": "execute_result"
    }
   ],
   "source": [
    "# len(test_dataset)\n",
    "next(iter(test_data_loader))"
   ]
  },
  {
   "cell_type": "markdown",
   "id": "72971599",
   "metadata": {},
   "source": [
    "## Create a model"
   ]
  },
  {
   "cell_type": "code",
   "execution_count": 6,
   "id": "3110b0b3",
   "metadata": {},
   "outputs": [],
   "source": [
    "model = modelUtils.Transformer(n_code, \n",
    "                               n_heads, \n",
    "                               embed_size, \n",
    "                               inner_ff_size, \n",
    "                               len(train_dataset.vocab), \n",
    "                               seq_len, \n",
    "                               dropout)\n",
    "model = model.cuda()"
   ]
  },
  {
   "cell_type": "code",
   "execution_count": 7,
   "id": "1b5df9ef",
   "metadata": {},
   "outputs": [
    {
     "name": "stdout",
     "output_type": "stream",
     "text": [
      "The BERT model has 100 different named parameters.\n",
      "\n",
      "==== Embedding Layer ====\n",
      "\n",
      "embeddings.weight                                       (12572, 128)\n",
      "encoders.0.mha.linear.weight                              (384, 128)\n",
      "encoders.0.mha.linear.bias                                    (384,)\n",
      "encoders.0.mha.out.weight                                 (128, 128)\n",
      "encoders.0.mha.out.bias                                       (128,)\n",
      "\n",
      "==== Transformer Layer ====\n",
      "\n",
      "encoders.0.ff.linear1.weight                              (512, 128)\n",
      "encoders.0.ff.linear1.bias                                    (512,)\n",
      "encoders.0.ff.linear2.weight                              (128, 512)\n",
      "encoders.0.ff.linear2.bias                                    (128,)\n",
      "encoders.0.norm1.weight                                       (128,)\n",
      "encoders.0.norm1.bias                                         (128,)\n",
      "encoders.0.norm2.weight                                       (128,)\n",
      "encoders.0.norm2.bias                                         (128,)\n",
      "encoders.1.mha.linear.weight                              (384, 128)\n",
      "encoders.1.mha.linear.bias                                    (384,)\n",
      "encoders.1.mha.out.weight                                 (128, 128)\n",
      "encoders.1.mha.out.bias                                       (128,)\n",
      "encoders.1.ff.linear1.weight                              (512, 128)\n",
      "encoders.1.ff.linear1.bias                                    (512,)\n",
      "encoders.1.ff.linear2.weight                              (128, 512)\n",
      "encoders.1.ff.linear2.bias                                    (128,)\n",
      "\n",
      "==== Output Layer ====\n",
      "\n",
      "encoders.7.norm2.bias                                         (128,)\n",
      "norm.weight                                                   (128,)\n",
      "norm.bias                                                     (128,)\n",
      "linear.weight                                           (12572, 128)\n"
     ]
    }
   ],
   "source": [
    "# Get all of the model's parameters as a list of tuples.\n",
    "params = list(model.named_parameters())\n",
    "\n",
    "print('The BERT model has {:} different named parameters.\\n'.format(len(params)))\n",
    "\n",
    "print('==== Embedding Layer ====\\n')\n",
    "\n",
    "for p in params[0:5]:\n",
    "    print(\"{:<55} {:>12}\".format(p[0], str(tuple(p[1].size()))))\n",
    "\n",
    "print('\\n==== Transformer Layer ====\\n')\n",
    "\n",
    "for p in params[5:21]:\n",
    "    print(\"{:<55} {:>12}\".format(p[0], str(tuple(p[1].size()))))\n",
    "\n",
    "print('\\n==== Output Layer ====\\n')\n",
    "\n",
    "for p in params[-4:]:\n",
    "    print(\"{:<55} {:>12}\".format(p[0], str(tuple(p[1].size()))))"
   ]
  },
  {
   "cell_type": "markdown",
   "id": "feab6b9a",
   "metadata": {},
   "source": [
    "## Training of the model"
   ]
  },
  {
   "cell_type": "code",
   "execution_count": null,
   "id": "944cfd1d",
   "metadata": {},
   "outputs": [],
   "source": [
    "#optim_kwargs = {'lr':1e-4, 'weight_decay':1e-4, 'betas':(.9,.999)}\n",
    "optim_kwargs = {'lr':2e-3, 'weight_decay':1e-4, 'betas':(.9,.999)}\n",
    "\n",
    "print('initializing optimizer and loss...')\n",
    "optimizer = optim.Adam(model.parameters(), **optim_kwargs)\n",
    "loss_model = nn.CrossEntropyLoss(ignore_index=train_dataset.IGNORE_IDX)\n",
    "losses=mainUtils.training(data_loader=train_data_loader,\n",
    "                          model=model,\n",
    "                          loss_model=loss_model,\n",
    "                          optimizer=optimizer,\n",
    "                          n_iteration=30000)"
   ]
  },
  {
   "cell_type": "markdown",
   "id": "8f3432dc",
   "metadata": {},
   "source": [
    "## Plot the curve"
   ]
  },
  {
   "cell_type": "code",
   "execution_count": 9,
   "id": "79785375",
   "metadata": {},
   "outputs": [
    {
     "data": {
      "image/png": "[encoded data removed]",
      "text/plain": [
       "<Figure size 700x500 with 1 Axes>"
      ]
     },
     "metadata": {},
     "output_type": "display_data"
    }
   ],
   "source": [
    "utils.plot_metric(losses,\"losses\")"
   ]
  },
  {
   "cell_type": "code",
   "execution_count": 10,
   "id": "b16cc78e",
   "metadata": {},
   "outputs": [],
   "source": [
    "#next(iter(test_data_loader))"
   ]
  },
  {
   "cell_type": "markdown",
   "id": "68346d53",
   "metadata": {},
   "source": [
    "## Evaluation "
   ]
  },
  {
   "cell_type": "code",
   "execution_count": 14,
   "id": "cb677eeb",
   "metadata": {},
   "outputs": [],
   "source": [
    "model.eval()\n",
    "\n",
    "batch=next(iter(test_data_loader))\n",
    "\n",
    "#infer\n",
    "masked_input = batch['input']\n",
    "masked_target = batch['target']\n",
    "masked_actual=batch['original']\n",
    "\n",
    "masked_input = masked_input.cuda(non_blocking=True)\n",
    "masked_target = masked_target.cuda(non_blocking=True)\n",
    "masked_actual = masked_actual.cuda(non_blocking=True)\n",
    "\n",
    "output = model(masked_input)\n",
    "#masked_input,masked_target,output=mainUtils.eval(model,test_data_loader)"
   ]
  },
  {
   "cell_type": "code",
   "execution_count": 16,
   "id": "8c8ac50c",
   "metadata": {},
   "outputs": [
    {
     "name": "stdout",
     "output_type": "stream",
     "text": [
      "ORIG =>  physical contact between players is extremely limited to avoid injury . minimal or no hockey equipment is worn by the\n",
      "NOISY =>  physical contact between relatively is sponsor limited to avoid injury . minimal or no hockey equipment is worn by the\n",
      "CORRECT =>  physical contact between *\"*  is *a*  limited to avoid injury . minimal or no hockey equipment is worn by the\n",
      "Noise: ['relatively', 'sponsor'] corrected ['\"', 'a']\n",
      "~~~~~~~~~~~~~~~~~~~~~~~~~~~\n",
      "\n",
      "ORIG =>  roosevelt assumed the presidency at age 42 , and remains the youngest person to become president of the united states\n",
      "NOISY =>  roosevelt assumed across presidency at age invented pitch and remains the youngest person to become president of the united states\n",
      "CORRECT =>  roosevelt assumed *the*  presidency at age *football*  *in*  and remains the youngest person to become president of the united states\n",
      "Noise: ['across', 'invented', 'pitch'] corrected ['the', 'football', 'in']\n",
      "~~~~~~~~~~~~~~~~~~~~~~~~~~~\n",
      "\n",
      "ORIG =>  the yorkshire senior cup is currently the premier county cup competition for club sides based in yorkshire that play in\n",
      "NOISY =>  sappers yorkshire senior cup is currently the premier county cup competition for club sides based in waiting that play in\n",
      "CORRECT =>  *the*  yorkshire senior cup is currently the premier county cup competition for club sides based in *,*  that play in\n",
      "Noise: ['sappers', 'waiting'] corrected ['the', ',']\n",
      "~~~~~~~~~~~~~~~~~~~~~~~~~~~\n",
      "\n",
      "ORIG =>  via its division world para ice hockey , the international paralympic committee ( ipc ) acts as the international sanctioning\n",
      "NOISY =>  via uyghurs division world para ice ushered , the imposed paralympic committee ( ipc ) acts as the international amount\n",
      "CORRECT =>  via *bandy*  division world para ice *used*  , the *and*  paralympic committee ( ipc ) acts as the international *football* \n",
      "Noise: ['uyghurs', 'ushered', 'imposed', 'amount'] corrected ['bandy', 'used', 'and', 'football']\n",
      "~~~~~~~~~~~~~~~~~~~~~~~~~~~\n",
      "\n",
      "ORIG =>  the terms street football and street soccer ( american and canadian english ) encompass a number of informal varieties of\n",
      "NOISY =>  the terms street 1995 and street soccer ( american and canadian english ) encompass a number of informal varieties of\n",
      "CORRECT =>  the terms street *,*  and street soccer ( american and canadian english ) encompass a number of informal varieties of\n",
      "Noise: ['1995'] corrected [',']\n",
      "~~~~~~~~~~~~~~~~~~~~~~~~~~~\n",
      "\n",
      "ORIG =>  players determine whether to use a hockey ball , a tennis ball , or a street hockey puck . there\n",
      "NOISY =>  players determine whether to afghans a hockey numbering , a tennis ball , thomas a street 1321 puck . there\n",
      "CORRECT =>  players determine whether to *as*  a hockey *)*  , a tennis ball , *based*  a street *.*  puck . there\n",
      "Noise: ['afghans', 'numbering', 'thomas', '1321'] corrected ['as', ')', 'based', '.']\n",
      "~~~~~~~~~~~~~~~~~~~~~~~~~~~\n",
      "\n",
      "ORIG =>  each year the usafl holds a national club championship , a tournament open to all clubs across the nation ,\n",
      "NOISY =>  each year 9s usafl holds a national club championship waldegrave a tournament open to all clubs across the nation ,\n",
      "CORRECT =>  each year *between*  usafl holds a national club championship *and*  a tournament open to all clubs across the nation ,\n",
      "Noise: ['9s', 'waldegrave'] corrected ['between', 'and']\n",
      "~~~~~~~~~~~~~~~~~~~~~~~~~~~\n",
      "\n",
      "ORIG =>  the university of cambridge includes 31 semi - autonomous constituent colleges and over 150 academic departments , faculties , and\n",
      "NOISY =>  the university of cambridge includes 31 semi - autonomous constituent colleges and over 150 academic departments , prosthesis , and\n",
      "CORRECT =>  the university of cambridge includes 31 semi - autonomous constituent colleges and over 150 academic departments , *expanding*  , and\n",
      "Noise: ['prosthesis'] corrected ['expanding']\n",
      "~~~~~~~~~~~~~~~~~~~~~~~~~~~\n",
      "\n",
      "ORIG =>  the guardian is a british daily newspaper . it was founded in 1821 as the manchester guardian , and changed\n",
      "NOISY =>  the guardian is a british daily newspaper . events—including was founded enchanted 1821 as the manchester guardian , and changed\n",
      "CORRECT =>  the guardian is a british daily newspaper . *which*  was founded *in*  1821 as the manchester guardian , and changed\n",
      "Noise: ['events—including', 'enchanted'] corrected ['which', 'in']\n",
      "~~~~~~~~~~~~~~~~~~~~~~~~~~~\n",
      "\n",
      "ORIG =>  teotihuacan began as a religious center in the mexican highlands around the first century ce . it became the largest\n",
      "NOISY =>  teotihuacan began uˈlama inner religious center in the mexican highlands around the first century ce . it became the return\n",
      "CORRECT =>  teotihuacan began *the*  *the*  religious center in the mexican highlands around the first century ce . it became the *all* \n",
      "Noise: ['uˈlama', 'inner', 'return'] corrected ['the', 'the', 'all']\n",
      "~~~~~~~~~~~~~~~~~~~~~~~~~~~\n",
      "\n"
     ]
    }
   ],
   "source": [
    "for i in range(0,test_batch_size):\n",
    "    s_noisySentence=''\n",
    "    s_actualSentence=''\n",
    "    s_output=''\n",
    "    lstNoise=[]\n",
    "    lstCorrections=[]\n",
    "    \n",
    "    for j in range(0,seq_len):\n",
    "        ## reconstruct the actual sentence\n",
    "        s_actualSentence=s_actualSentence+\" \"+test_dataset.rvocab[masked_actual[i][j].item()]\n",
    "        \n",
    "        ## reconstruct the noisy sentence\n",
    "        s_noisySentence=s_noisySentence+\" \"+test_dataset.rvocab[masked_input[i][j].item()]\n",
    "        \n",
    "        ## corllect the noise and the corrections\n",
    "        if(masked_target[i][j]!=test_dataset.IGNORE_IDX):\n",
    "            lstNoise.append(test_dataset.rvocab[masked_input[i][j].item()])\n",
    "            s_output=s_output+\" *\"+test_dataset.rvocab[np.argmax(output[i][j].detach().cpu().numpy())]+\"* \"\n",
    "            lstCorrections.append(test_dataset.rvocab[np.argmax(output[i][j].detach().cpu().numpy())])\n",
    "        else:\n",
    "            s_output=s_output+\" \"+test_dataset.rvocab[masked_input[i][j].item()]\n",
    "            \n",
    "    print(\"ORIG =>\", s_actualSentence)\n",
    "    print(\"NOISY =>\",s_noisySentence)\n",
    "    print(\"CORRECT =>\",s_output)\n",
    "    \n",
    "    print(\"Noise:\",lstNoise,\"corrected\",lstCorrections)\n",
    "    print(\"~~~~~~~~~~~~~~~~~~~~~~~~~~~\\n\")\n"
   ]
  },
  {
   "cell_type": "code",
   "execution_count": null,
   "id": "13a127e9",
   "metadata": {},
   "outputs": [],
   "source": []
  }
 ],
 "metadata": {
  "kernelspec": {
   "display_name": "Python 3 (ipykernel)",
   "language": "python",
   "name": "python3"
  },
  "language_info": {
   "codemirror_mode": {
    "name": "ipython",
    "version": 3
   },
   "file_extension": ".py",
   "mimetype": "text/x-python",
   "name": "python",
   "nbconvert_exporter": "python",
   "pygments_lexer": "ipython3",
   "version": "3.10.9"
  }
 },
 "nbformat": 4,
 "nbformat_minor": 5
}
